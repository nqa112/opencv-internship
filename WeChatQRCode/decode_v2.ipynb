{
 "cells": [
  {
   "cell_type": "code",
   "execution_count": 1,
   "metadata": {},
   "outputs": [
    {
     "name": "stdout",
     "output_type": "stream",
     "text": [
      "Requirement already satisfied: opencv-python==4.5.2.52 in /Users/Quoc_Anh/.local/lib/python3.8/site-packages (4.5.2.52)\n",
      "Requirement already satisfied: numpy>=1.17.3 in /Users/Quoc_Anh/.conda/envs/vision/lib/python3.8/site-packages (from opencv-python==4.5.2.52) (1.23.1)\n",
      "Note: you may need to restart the kernel to use updated packages.\n",
      "Requirement already satisfied: opencv-contrib-python==4.5.2.52 in /Users/Quoc_Anh/.local/lib/python3.8/site-packages (4.5.2.52)\n",
      "Requirement already satisfied: numpy>=1.17.3 in /Users/Quoc_Anh/.conda/envs/vision/lib/python3.8/site-packages (from opencv-contrib-python==4.5.2.52) (1.23.1)\n",
      "Note: you may need to restart the kernel to use updated packages.\n"
     ]
    }
   ],
   "source": [
    "# Install compatible OpenCV version with WeChatQRCode\n",
    "%pip install opencv-python==4.5.2.52\n",
    "%pip install opencv-contrib-python==4.5.2.52"
   ]
  },
  {
   "cell_type": "code",
   "execution_count": 2,
   "metadata": {},
   "outputs": [],
   "source": [
    "import os\n",
    "import cv2\n",
    "import numpy as np"
   ]
  },
  {
   "cell_type": "code",
   "execution_count": 3,
   "metadata": {},
   "outputs": [],
   "source": [
    "def convertScale(img, alpha, beta):\n",
    "    # Add bias and gain to an image with saturation arithmetics. Unlike\n",
    "    # cv2.convertScaleAbs, it does not take an absolute value, which would lead to\n",
    "    # nonsensical results (e.g., a pixel at 44 with alpha = 3 and beta = -210\n",
    "    # becomes 78 with OpenCV, when in fact it should become 0).\n",
    "\n",
    "    new_img = img * alpha + beta\n",
    "    new_img[new_img < 0] = 0\n",
    "    new_img[new_img > 255] = 255\n",
    "    return new_img.astype(np.uint8)\n",
    "\n",
    "# Automatic brightness and contrast optimization with optional histogram clipping\n",
    "def autoBrightnessAndContrast(image, clip_hist_percent):\n",
    "\n",
    "    # Calculate grayscale histogram\n",
    "    hist = cv2.calcHist([image],[0],None,[256],[0,256])\n",
    "    hist_size = len(hist)\n",
    "\n",
    "    # Calculate cumulative distribution from the histogram\n",
    "    accumulator = []\n",
    "    accumulator.append(float(hist[0]))\n",
    "    for index in range(1, hist_size):\n",
    "        accumulator.append(accumulator[index -1] + float(hist[index]))\n",
    "\n",
    "    # Locate points to clip\n",
    "    maximum = accumulator[-1]\n",
    "    clip_hist_percent *= (maximum/100.0)\n",
    "    clip_hist_percent /= 2.0\n",
    "\n",
    "    # Locate left cut\n",
    "    minimum_gray = 0\n",
    "    while accumulator[minimum_gray] < clip_hist_percent:\n",
    "        minimum_gray += 1\n",
    "\n",
    "    # Locate right cut\n",
    "    maximum_gray = hist_size -1\n",
    "    while accumulator[maximum_gray] >= (maximum - clip_hist_percent):\n",
    "        maximum_gray -= 1\n",
    "\n",
    "    # Calculate alpha and beta values\n",
    "    alpha = 255 / (maximum_gray - minimum_gray)\n",
    "    beta = -minimum_gray * alpha\n",
    "\n",
    "    auto_result = convertScale(image, alpha=alpha, beta=beta)\n",
    "    return auto_result"
   ]
  },
  {
   "cell_type": "code",
   "execution_count": 4,
   "metadata": {},
   "outputs": [],
   "source": [
    "def QRreader(path):\n",
    "\n",
    "    # declare QR result variable\n",
    "    qrData = None\n",
    "    \n",
    "    # gray scale for faster computation\n",
    "    gray = cv2.imread(path, 0)\n",
    "\n",
    "    if gray is not None:\n",
    "\n",
    "        # stop program if no QR code detected\n",
    "        try:\n",
    "            h, w = gray.shape[:2]  \n",
    "            \n",
    "            # resize for faster decoding with optional value\n",
    "            resizeTarget = 240\n",
    "            ratio = resizeTarget / w\n",
    "            resize = cv2.resize(gray, (resizeTarget, round(h * ratio)), interpolation = cv2.INTER_AREA)\n",
    "\n",
    "            # deblur\n",
    "            gaussian = cv2.GaussianBlur(resize, (11, 11), 10.0)\n",
    "            unsharp = cv2.addWeighted(resize, 8, gaussian, -7, 0)\n",
    "\n",
    "            # automatic brightness and contrast optimization with optional histogram clipping\n",
    "            brightness_contrast = autoBrightnessAndContrast(unsharp, 5)\n",
    "\n",
    "            # binarization\n",
    "            _, bin = cv2.threshold(brightness_contrast, 0, 255, cv2.THRESH_OTSU)\n",
    "            \n",
    "            # decode using OpenCV WechatQRCode\n",
    "            detector = cv2.wechat_qrcode_WeChatQRCode(\"./model/detect.prototxt\",\n",
    "                                                      \"./model/detect.caffemodel\",\n",
    "                                                      \"./model/sr.prototxt\",\n",
    "                                                      \"./model/sr.caffemodel\")\n",
    "\n",
    "            result = detector.detectAndDecode(bin)\n",
    "\n",
    "            if len(result[0]) != 0:\n",
    "                qrData = result[0][0]        \n",
    "        except:\n",
    "            qrData = None\n",
    "        \n",
    "    return qrData, bin"
   ]
  },
  {
   "cell_type": "code",
   "execution_count": 5,
   "metadata": {},
   "outputs": [
    {
     "name": "stdout",
     "output_type": "stream",
     "text": [
      "DECODE RATE: 40/100\n"
     ]
    }
   ],
   "source": [
    "import matplotlib.pyplot as plt\n",
    "\n",
    "sourceFolder = \"./img_qrcode_guiQA\"\n",
    "\n",
    "imgNum = 0\n",
    "decodeSuccess = 0\n",
    "\n",
    "# Decode a series of QR code images in \"sourceFolder\"\n",
    "for f in os.listdir(sourceFolder):\n",
    "    try:\n",
    "        imgPath = os.path.join(sourceFolder, f)\n",
    "        res, img = QRreader(imgPath)\n",
    "\n",
    "        # # Create figure and axes\n",
    "        # _, ax = plt.subplots()\n",
    "        # # Display the image\n",
    "        # ax.imshow(img, cmap='gray')\n",
    "        # plt.title(f)\n",
    "        # plt.axis(\"off\")  \n",
    "        # plt.show()\n",
    "        \n",
    "        if res is not None:\n",
    "            # print(f\"{res}\\n\")\n",
    "            decodeSuccess += 1\n",
    "        imgNum += 1\n",
    "    except:\n",
    "        raise AssertionError\n",
    "\n",
    "\n",
    "print(f\"DECODE RATE: {decodeSuccess}/{imgNum}\")"
   ]
  }
 ],
 "metadata": {
  "interpreter": {
   "hash": "f141a2a29f904d4ff0b2467704ae9124c09f2a716e5018b070bc664232bdb6e0"
  },
  "kernelspec": {
   "display_name": "Python 3.8.11 ('vision')",
   "language": "python",
   "name": "python3"
  },
  "language_info": {
   "codemirror_mode": {
    "name": "ipython",
    "version": 3
   },
   "file_extension": ".py",
   "mimetype": "text/x-python",
   "name": "python",
   "nbconvert_exporter": "python",
   "pygments_lexer": "ipython3",
   "version": "3.8.11"
  },
  "orig_nbformat": 4
 },
 "nbformat": 4,
 "nbformat_minor": 2
}
